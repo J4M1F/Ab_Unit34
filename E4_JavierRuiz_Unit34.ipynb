{
 "cells": [
  {
   "cell_type": "markdown",
   "id": "5ffc2f4d",
   "metadata": {},
   "source": [
    "# Métodos formales en computación\n",
    "\n",
    "**Alumno: Javier Ruiz**\n",
    "\n",
    "**Asignatura: UNIT 34 ANALYTICAL METHODS**"
   ]
  },
  {
   "cell_type": "markdown",
   "id": "26c27f5e",
   "metadata": {},
   "source": [
    "### Primera parte\n",
    "\n",
    "### Correción mediante la lógica de Hoare\n",
    "\n",
    "La lógica de Hoare es un sistema formal que permite razonar sobre la corrección de los programas. Se basa en tripletas de la forma {P} C {Q}, donde:\n",
    "\n",
    "$P$ es la precondición\n",
    "$C$ es el comando o programa\n",
    "$Q$ es la postcondición\n",
    "\n",
    "**Precondición y Postcondición**\n",
    "\n",
    "Para nuestro programa FindMax:\n",
    "\n",
    "- Precondición ($P$): $n \\geq 1 \\land A \\text{ es un array de } n \\text{ enteros}$\n",
    "\n",
    "- Postcondición ($Q$): $max = \\max{A[i] : 0 \\leq i < n}$\n",
    "\n",
    "Que podemos expresar también como:\n",
    "\n",
    "$(\\forall i: 0 \\leq i < n: max \\geq A[i]) \\land (\\exists j: 0 \\leq j < n: max = A[j])$\n",
    "\n",
    "### Verificación de corrección\n",
    "\n",
    "Utilizaremos un invariante de bucle para demostrar la corrección:\n",
    "\n",
    "**Invariante de bucle ($I$):**\n",
    "\n",
    "$I \\equiv (1 \\leq i \\leq n+1) \\land (max = \\max{A[j] : 0 \\leq j < i})$\n",
    "\n",
    "O en notación lógica: $I \\equiv (1 \\leq i \\leq n+1) \\land (\\forall j: 0 \\leq j < i: max \\geq A[j]) \\land (\\exists k: 0 \\leq k < i: max = A[k])$\n",
    "\n",
    "**Verificación de inicialización**\n",
    "\n",
    "Antes del bucle: $i = 1$ y $max = A[0]$\n",
    "\n",
    "Tenemos que verificar que $I$ se cumple:\n",
    "\n",
    "$1 \\leq 1 \\leq n+1$ \n",
    "\n",
    "$max = A[0] = \\max{A[j] : 0 \\leq j < 1}$ \n",
    "\n",
    "**Verificación de mantenimiento del invariante**\n",
    "\n",
    "Suponemos que $I$ es cierto al inicio de una iteración. Debemos verificar que sigue siendo cierto al final:\n",
    "\n",
    "Si $A[i] > max$, entonces $max := A[i]$:\n",
    "\n",
    "$max' = A[i] = \\max{A[j] : 0 \\leq j \\leq i}$ \n",
    "\n",
    "Si $A[i] \\leq max$, entonces $max$ no cambia:\n",
    "\n",
    "$max' = max = \\max{A[j] : 0 \\leq j < i} = \\max{A[j] : 0 \\leq j \\leq i}$ \n",
    "\n",
    "Después, $i$ se incrementa a $i+1$, manteniendo $1 \\leq i \\leq n+1$.\n",
    "\n",
    "**Verificación de la terminación**\n",
    "\n",
    "Cuando el bucle termina, tenemos $i = n+1$, y el invariante nos dice:\n",
    "\n",
    "$max = \\max{A[j] : 0 \\leq j < n+1} = \\max{A[j] : 0 \\leq j < n}$\n",
    "\n",
    "Esto es exactamente nuestra postcondición.\n",
    "\n",
    "### Tripleta de Hoare completa\n",
    "\n",
    "${n \\geq 1 \\land A \\text{ es un array de } n \\text{ enteros}}$\n",
    "\n",
    "$max := A[0];$\n",
    "\n",
    "$for\\ i := 1\\ to\\ n\\ do$\n",
    "\n",
    "$\\quad {I \\land i \\leq n}$\n",
    "\n",
    "$\\quad if\\ A[i] > max\\ then$\n",
    "\n",
    "$\\quad \\quad max := A[i]$\n",
    "\n",
    "$\\quad end\\ if$\n",
    "\n",
    "$\\quad {I[i \\leftarrow i+1]}$\n",
    "\n",
    "$end\\ for$\n",
    "\n",
    "${max = \\max{A[j] : 0 \\leq j < n}}$"
   ]
  },
  {
   "cell_type": "markdown",
   "id": "567f36bb",
   "metadata": {
    "vscode": {
     "languageId": "plaintext"
    }
   },
   "source": [
    "### Especificación del leguaje Z\n",
    "\n",
    "El lenguaje Z es un lenguaje formal basado en la teoría de conjuntos y la lógica de primer orden. Usaremos esquemas Z para modelar el sistema:\n",
    "\n",
    "Donde: \n",
    "\n",
    "$FindMaxSystem$ define el estado del sistema\n",
    "\n",
    "$FindMaxInit$ establece las precondiciones\n",
    "\n",
    "$FindMaxOperation$ especifica la transformación del estado\n",
    "\n",
    "$\\Delta FindMaxSystem$ indica que el estado cambia\n",
    "\n",
    "$max'$ es el valor de $max$ después de la operación\n",
    "\n",
    "### Implementación en Python"
   ]
  },
  {
   "cell_type": "code",
   "execution_count": 1,
   "id": "9ce5429d",
   "metadata": {},
   "outputs": [
    {
     "name": "stdout",
     "output_type": "stream",
     "text": [
      "Array: [3, 7, 1, 9, 5, 2]\n",
      "Valor máximo: 9\n"
     ]
    }
   ],
   "source": [
    "def find_max(A):\n",
    "    \"\"\"\n",
    "    Encuentra el valor máximo en un array de enteros.\n",
    "    Precondición: A es un array no vacío de enteros\n",
    "    Postcondición: Retorna el valor máximo de A\n",
    "    \"\"\"\n",
    "    if len(A) == 0:\n",
    "        raise ValueError(\"El array no puede estar vacío\")\n",
    "        \n",
    "    max_val = A[0]\n",
    "    for i in range(1, len(A)):\n",
    "        if A[i] > max_val:\n",
    "            max_val = A[i]\n",
    "    return max_val\n",
    "\n",
    "# Prueba básica\n",
    "A = [3, 7, 1, 9, 5, 2]\n",
    "print(f\"Array: {A}\")\n",
    "print(f\"Valor máximo: {find_max(A)}\")"
   ]
  },
  {
   "cell_type": "markdown",
   "id": "b40ddc65",
   "metadata": {},
   "source": [
    "### Verificación con aserciones en Pyhton\n",
    "\n",
    "Implementaremos una versión del algoritmo que incluye aserciones para verificar el invariante de bucle:"
   ]
  },
  {
   "cell_type": "code",
   "execution_count": 2,
   "id": "9be64fc0",
   "metadata": {},
   "outputs": [
    {
     "name": "stdout",
     "output_type": "stream",
     "text": [
      "Verificación exitosa. Máximo: 9\n"
     ]
    }
   ],
   "source": [
    "def find_max_with_assertions(A):\n",
    "    \"\"\"\n",
    "    Encuentra el valor máximo con aserciones que verifican el invariante.\n",
    "    \"\"\"\n",
    "    assert len(A) > 0, \"Precondición: El array no puede estar vacío\"\n",
    "    \n",
    "    max_val = A[0]\n",
    "    # Invariante inicial: max_val es el máximo de A[0..0]\n",
    "    assert max_val == A[0], \"Invariante inicial\"\n",
    "    \n",
    "    for i in range(1, len(A)):\n",
    "        # Invariante de bucle: max_val es el máximo de A[0..i-1]\n",
    "        assert all(max_val >= A[j] for j in range(i)), \"Invariante del bucle - condición ∀\"\n",
    "        assert any(max_val == A[j] for j in range(i)), \"Invariante del bucle - condición ∃\"\n",
    "        \n",
    "        # Cuerpo del bucle\n",
    "        if A[i] > max_val:\n",
    "            max_val = A[i]\n",
    "            \n",
    "    # Postcondición: max_val es el máximo de todo A\n",
    "    assert all(max_val >= A[j] for j in range(len(A))), \"Postcondición - condición ∀\"\n",
    "    assert any(max_val == A[j] for j in range(len(A))), \"Postcondición - condición ∃\"\n",
    "    \n",
    "    return max_val\n",
    "\n",
    "# Probamos con el mismo array\n",
    "try:\n",
    "    result = find_max_with_assertions(A)\n",
    "    print(f\"Verificación exitosa. Máximo: {result}\")\n",
    "except AssertionError as e:\n",
    "    print(f\"Error en la verificación: {e}\")"
   ]
  },
  {
   "cell_type": "markdown",
   "id": "1ab8a4dd",
   "metadata": {},
   "source": [
    "### Pruebas exhaustibas\n",
    "\n"
   ]
  },
  {
   "cell_type": "code",
   "execution_count": 3,
   "id": "38721aa2",
   "metadata": {},
   "outputs": [
    {
     "name": "stdout",
     "output_type": "stream",
     "text": [
      "Todas las pruebas pasaron exitosamente!\n"
     ]
    }
   ],
   "source": [
    "def test_find_max():\n",
    "    \"\"\"\n",
    "    Conjunto de pruebas para validar la implementación del algoritmo.\n",
    "    \"\"\"\n",
    "    test_cases = [\n",
    "        ([1, 2, 3, 4, 5], 5),          # Orden ascendente\n",
    "        ([5, 4, 3, 2, 1], 5),          # Orden descendente\n",
    "        ([1, 5, 3, 2, 4], 5),          # Orden mixto\n",
    "        ([42], 42),                    # Un solo elemento\n",
    "        ([-1, -2, -3, -4, -5], -1),    # Números negativos\n",
    "        ([5, 5, 5, 5], 5),             # Elementos repetidos\n",
    "        ([10**9, 10**8, 10**10], 10**10)  # Números grandes\n",
    "    ]\n",
    "    \n",
    "    for arr, expected in test_cases:\n",
    "        result = find_max(arr)\n",
    "        assert result == expected, f\"Para {arr}, se esperaba {expected} pero se obtuvo {result}\"\n",
    "    \n",
    "    # Verificar que se lanza una excepción para un array vacío\n",
    "    try:\n",
    "        find_max([])\n",
    "        assert False, \"Debería haber lanzado una excepción para array vacío\"\n",
    "    except ValueError:\n",
    "        pass\n",
    "    \n",
    "    print(\"Todas las pruebas pasaron exitosamente!\")\n",
    "\n",
    "# Ejecutar pruebas\n",
    "test_find_max()"
   ]
  },
  {
   "cell_type": "markdown",
   "id": "20434296",
   "metadata": {},
   "source": [
    "### Implementación Z \n",
    "\n",
    "Para completar el análisis,  implementar una versión que cumpla con la especificación Z"
   ]
  },
  {
   "cell_type": "code",
   "execution_count": 4,
   "id": "d423ae23",
   "metadata": {},
   "outputs": [
    {
     "name": "stdout",
     "output_type": "stream",
     "text": [
      "¡La implementación satisface la especificación formal!\n"
     ]
    }
   ],
   "source": [
    "class FindMaxSystem:\n",
    "    \"\"\"Implementación del sistema especificado en Z\"\"\"\n",
    "    \n",
    "    def __init__(self, A):\n",
    "        \"\"\"\n",
    "        Inicialización del sistema (FindMaxInit)\n",
    "        \"\"\"\n",
    "        self.A = A\n",
    "        self.n = len(A)\n",
    "        self.max = None\n",
    "        \n",
    "        # Precondición\n",
    "        assert self.n > 0, \"El array no puede estar vacío\"\n",
    "    \n",
    "    def operation(self):\n",
    "        \"\"\"\n",
    "        Implementación de FindMaxOperation\n",
    "        \"\"\"\n",
    "        # Implementación directa de la especificación Z\n",
    "        self.max = max(self.A[i] for i in range(self.n))\n",
    "        return self.max\n",
    "    \n",
    "    def implementation(self):\n",
    "        \"\"\"\n",
    "        Implementación algoritmica (la que queremos verificar)\n",
    "        \"\"\"\n",
    "        self.max = self.A[0]\n",
    "        for i in range(1, self.n):\n",
    "            if self.A[i] > self.max:\n",
    "                self.max = self.A[i]\n",
    "        return self.max\n",
    "    \n",
    "    def verify(self):\n",
    "        \"\"\"\n",
    "        Verifica que la implementación satisface la especificación\n",
    "        \"\"\"\n",
    "        # Guardamos el estado actual\n",
    "        original_max = self.max\n",
    "        \n",
    "        # Ejecutamos la especificación\n",
    "        expected = self.operation()\n",
    "        \n",
    "        # Restauramos y ejecutamos la implementación\n",
    "        self.max = original_max\n",
    "        actual = self.implementation()\n",
    "        \n",
    "        # Verificamos que ambos resultados son iguales\n",
    "        assert expected == actual, f\"Especificación: {expected}, Implementación: {actual}\"\n",
    "        return True\n",
    "\n",
    "# Probamos la verificación\n",
    "system = FindMaxSystem(A)\n",
    "if system.verify():\n",
    "    print(\"¡La implementación satisface la especificación formal!\")"
   ]
  }
 ],
 "metadata": {
  "kernelspec": {
   "display_name": "base",
   "language": "python",
   "name": "python3"
  },
  "language_info": {
   "codemirror_mode": {
    "name": "ipython",
    "version": 3
   },
   "file_extension": ".py",
   "mimetype": "text/x-python",
   "name": "python",
   "nbconvert_exporter": "python",
   "pygments_lexer": "ipython3",
   "version": "3.11.5"
  }
 },
 "nbformat": 4,
 "nbformat_minor": 5
}
